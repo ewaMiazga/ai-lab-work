{
 "cells": [
  {
   "cell_type": "markdown",
   "metadata": {},
   "source": [
    "# 01. Load image and depth map"
   ]
  },
  {
   "cell_type": "code",
   "execution_count": 52,
   "metadata": {},
   "outputs": [
    {
     "name": "stdout",
     "output_type": "stream",
     "text": [
      "RGBDImage of size \n",
      "Color image : 548x548, with 3 channels.\n",
      "Depth image : 548x548, with 1 channels.\n",
      "Use numpy.asarray to access buffer data.\n"
     ]
    }
   ],
   "source": [
    "import open3d as o3d\n",
    "import cv2\n",
    "import numpy as np\n",
    "\n",
    "# read grayscale image\n",
    "# Load the RGB image\n",
    "rgb_image = cv2.imread(\"im0.png\")  # Reads as BGR\n",
    "\n",
    "# Convert to grayscale (single channel)\n",
    "# gray_image = cv2.cvtColor(rgb_image, cv2.COLOR_BGR2GRAY)\n",
    "\n",
    "# # Ensure the image is in 16-bit format\n",
    "# if gray_image.dtype != np.uint16:\n",
    "#     gray_image = (gray_image.astype(np.float32) / 255.0 * 65535).astype(np.uint16)\n",
    "\n",
    "### CHESS EXAMPLE ###\n",
    "#color_raw = o3d.io.read_image(\"im0.png\")\n",
    "#depth_raw = o3d.io.read_image(\"depth_map.png\")\n",
    "\n",
    "### CUBE RESIZED EXAMPLE ###\n",
    "color_path = \"../dataset/cube_resized.jpg\"\n",
    "depth_path = \"cube_resized_depth_map.png\"\n",
    "\n",
    "color_raw = o3d.io.read_image(color_path)\n",
    "depth_raw = o3d.io.read_image(depth_path)\n",
    "\n",
    "\n",
    "\n",
    "rbgd = o3d.geometry.RGBDImage.create_from_color_and_depth(\n",
    "    color_raw, depth_raw, convert_rgb_to_intensity=False\n",
    ")\n",
    "\n",
    "print(rbgd)\n",
    "\n"
   ]
  },
  {
   "cell_type": "markdown",
   "metadata": {},
   "source": [
    "# 02. Set up camera"
   ]
  },
  {
   "cell_type": "code",
   "execution_count": 53,
   "metadata": {},
   "outputs": [],
   "source": [
    "camera_intrinsic = o3d.camera.PinholeCameraIntrinsic(\n",
    "    o3d.camera.PinholeCameraIntrinsicParameters.PrimeSenseDefault\n",
    ")"
   ]
  },
  {
   "cell_type": "markdown",
   "metadata": {},
   "source": [
    "# 03. Create a pointcloud"
   ]
  },
  {
   "cell_type": "code",
   "execution_count": 54,
   "metadata": {},
   "outputs": [
    {
     "data": {
      "text/plain": [
       "PointCloud with 299958 points."
      ]
     },
     "execution_count": 54,
     "metadata": {},
     "output_type": "execute_result"
    }
   ],
   "source": [
    "# pcd, ind = pcd.remove_statistical_outlier(nb_neighbors=20, std_ratio=2.0)\n",
    "pcd = o3d.geometry.PointCloud.create_from_rgbd_image(\n",
    "    rbgd, camera_intrinsic\n",
    ")\n",
    "\n",
    "pcd.transform([[1, 0, 0, 0], [0, -1, 0, 0], [0, 0, -1, 0], [0, 0, 0, 1]])"
   ]
  },
  {
   "cell_type": "markdown",
   "metadata": {},
   "source": [
    "# 04. Choose only points with certain density inside the voxel"
   ]
  },
  {
   "cell_type": "code",
   "execution_count": 55,
   "metadata": {},
   "outputs": [
    {
     "name": "stdout",
     "output_type": "stream",
     "text": [
      "12254\n"
     ]
    }
   ],
   "source": [
    "voxel_size = 0.00001  # Adjust this value based on your data\n",
    "\n",
    "# Compute voxel grid\n",
    "voxel_grid = o3d.geometry.VoxelGrid.create_from_point_cloud(pcd, voxel_size)\n",
    "voxels = voxel_grid.get_voxels()\n",
    "print(len(voxels))\n",
    "#o3d.visualization.draw_geometries([voxel_grid])\n",
    "\n",
    "# Create a mapping from grid index to point count\n",
    "voxel_dict = {}\n",
    "point_indices = np.floor(np.asarray(pcd.points) / voxel_size).astype(int)\n",
    "\n",
    "for index in point_indices:\n",
    "    voxel_index = tuple(index)\n",
    "    voxel_dict[voxel_index] = voxel_dict.get(voxel_index, 0) + 1\n",
    "\n",
    "# Define density threshold\n",
    "min_points_per_voxel = 10  # Adjust as needed\n",
    "\n",
    "# Filter points based on voxel density\n",
    "filtered_points = [\n",
    "    p for i, p in enumerate(np.asarray(pcd.points))\n",
    "    if voxel_dict.get(tuple(point_indices[i]), 0) >= min_points_per_voxel\n",
    "]\n",
    "\n",
    "# Create new filtered point cloud\n",
    "filtered_pcd = o3d.geometry.PointCloud()\n",
    "filtered_pcd.points = o3d.utility.Vector3dVector(filtered_points)\n",
    "\n",
    "# Visualize the filtered point cloud\n",
    "#o3d.visualization.draw_geometries([filtered_pcd])"
   ]
  },
  {
   "cell_type": "markdown",
   "metadata": {},
   "source": [
    "# 05. Downsample"
   ]
  },
  {
   "cell_type": "code",
   "execution_count": 56,
   "metadata": {},
   "outputs": [
    {
     "name": "stdout",
     "output_type": "stream",
     "text": [
      "Number of points after downsampling:  158\n"
     ]
    }
   ],
   "source": [
    "# Downsample and get keypoints\n",
    "voxel_size = 0.0001 # Size of the boundarying box\n",
    "pcd_down = filtered_pcd.voxel_down_sample(voxel_size=voxel_size)\n",
    "\n",
    "# Visualize the downsampled point cloud\n",
    "#o3d.visualization.draw_geometries([pcd_down])\n",
    "\n",
    "print(\"Number of points after downsampling: \", len(pcd_down.points))"
   ]
  },
  {
   "cell_type": "markdown",
   "metadata": {},
   "source": [
    "# 06. Segmentation task"
   ]
  },
  {
   "cell_type": "code",
   "execution_count": 57,
   "metadata": {},
   "outputs": [
    {
     "name": "stdout",
     "output_type": "stream",
     "text": [
      "Number of points after plane segmentation:  59\n"
     ]
    }
   ],
   "source": [
    "# Segment the largest plane using RANSAC\n",
    "plane_model, inliers = pcd_down.segment_plane(\n",
    "                                         distance_threshold=0.0001,\n",
    "                                         ransac_n=10,\n",
    "                                         num_iterations=1000)\n",
    "\n",
    "# Extract plane and non-plane points\n",
    "plane = pcd_down.select_by_index(inliers)\n",
    "plane.paint_uniform_color([1, 0, 0])  # Color plane red\n",
    "non_plane = pcd_down.select_by_index(inliers, invert=True)\n",
    "\n",
    "# Visualize\n",
    "#o3d.visualization.draw_geometries([non_plane])\n",
    "\n",
    "print(\"Number of points after plane segmentation: \", len(non_plane.points))\n"
   ]
  },
  {
   "cell_type": "markdown",
   "metadata": {},
   "source": [
    "# 06.b Delete the bulb of points distant from the main bulb of points\n",
    "\n",
    "Apply clustering and keep bigger bulb of points"
   ]
  },
  {
   "cell_type": "code",
   "execution_count": 58,
   "metadata": {},
   "outputs": [
    {
     "name": "stderr",
     "output_type": "stream",
     "text": [
      "c:\\Users\\ewa.miazga\\miniconda3\\envs\\open3d_env\\lib\\site-packages\\sklearn\\cluster\\_kmeans.py:1419: UserWarning: KMeans is known to have a memory leak on Windows with MKL, when there are less chunks than available threads. You can avoid it by setting the environment variable OMP_NUM_THREADS=1.\n",
      "  warnings.warn(\n"
     ]
    }
   ],
   "source": [
    "import open3d as o3d\n",
    "import numpy as np\n",
    "from sklearn.cluster import KMeans\n",
    "\n",
    "\n",
    "# Convert point cloud to numpy array\n",
    "points = np.asarray(non_plane.points)\n",
    "\n",
    "# Define the number of clusters\n",
    "num_clusters = 2  # Adjust this value based on your needs\n",
    "\n",
    "# Perform K-Means clustering\n",
    "kmeans = KMeans(n_clusters=num_clusters, max_iter=100000, init='k-means++', n_init=10).fit(points)\n",
    "labels = kmeans.labels_\n",
    "\n",
    "# Assign colors to each cluster\n",
    "colors = np.random.rand(num_clusters, 3)\n",
    "non_plane.colors = o3d.utility.Vector3dVector(colors[labels])\n",
    "\n",
    "\n",
    "# Identify the larger cluster\n",
    "unique, counts = np.unique(labels, return_counts=True)\n",
    "larger_cluster_label = unique[np.argmax(counts)]\n",
    "\n",
    "# Select points that belong to the larger cluster\n",
    "larger_cluster_indices = np.where(labels == larger_cluster_label)[0]\n",
    "larger_cluster = non_plane.select_by_index(larger_cluster_indices)\n",
    "\n",
    "# Visualize the larger cluster\n",
    "o3d.visualization.draw_geometries([larger_cluster], height=800, width=800)"
   ]
  },
  {
   "cell_type": "markdown",
   "metadata": {},
   "source": [
    "# 06.c Take points that are at certain distance to non plane points"
   ]
  },
  {
   "cell_type": "code",
   "execution_count": 59,
   "metadata": {},
   "outputs": [],
   "source": [
    "import open3d as o3d\n",
    "import numpy as np\n",
    "from scipy.spatial import KDTree\n",
    "\n",
    "cube = larger_cluster\n",
    "\n",
    "# Convert point clouds to numpy arrays\n",
    "pcd_points = np.asarray(pcd.points)\n",
    "cube_points = np.asarray(cube.points)\n",
    "\n",
    "# Build a KDTree using the original point cloud\n",
    "kdtree = KDTree(pcd_points)\n",
    "\n",
    "# Define the distance threshold\n",
    "distance_threshold = 0.0001  # Adjust this value as needed\n",
    "\n",
    "# Find points within the distance threshold from the non-plane points\n",
    "indices = kdtree.query_ball_point(cube_points, r=distance_threshold)\n",
    "\n",
    "# Flatten the list of indices and remove duplicates\n",
    "indices = np.unique(np.concatenate(indices)).astype(int).tolist()\n",
    "\n",
    "# Select the filtered points from the original point cloud\n",
    "filtered_pcd = pcd.select_by_index(indices)\n",
    "\n",
    "# Delete outliers\n",
    "#filtered_pcd, ind = filtered_pcd.remove_statistical_outlier(nb_neighbors=100000, std_ratio=12.0)\n",
    "\n",
    "# Visualize the filtered points\n",
    "#o3d.visualization.draw_geometries([filtered_pcd], height=800, width=800)"
   ]
  },
  {
   "cell_type": "markdown",
   "metadata": {},
   "source": [
    "(if the kmeans applied before doesnot work )"
   ]
  },
  {
   "cell_type": "code",
   "execution_count": 60,
   "metadata": {},
   "outputs": [],
   "source": [
    " \n",
    "# Convert point cloud to numpy array\n",
    "# points = np.asarray(filtered_pcd.points)\n",
    "\n",
    "# # Define the number of clusters\n",
    "# num_clusters = 2  # Adjust this value based on your needs\n",
    "\n",
    "# # Perform K-Means clustering\n",
    "# kmeans = KMeans(n_clusters=num_clusters, max_iter=10, init='k-means++').fit(points)\n",
    "# labels = kmeans.labels_\n",
    "\n",
    "# # Assign colors to each cluster\n",
    "# colors = np.random.rand(num_clusters, 3)\n",
    "# filtered_pcd.colors = o3d.utility.Vector3dVector(colors[labels])\n",
    "\n",
    "# # Visualize the clustered point cloud\n",
    "# o3d.visualization.draw_geometries([filtered_pcd], height=800, width=800)"
   ]
  },
  {
   "cell_type": "markdown",
   "metadata": {},
   "source": [
    "# 07. Calculate the normals"
   ]
  },
  {
   "cell_type": "code",
   "execution_count": 61,
   "metadata": {},
   "outputs": [],
   "source": [
    "filtered_pcd.estimate_normals(search_param=o3d.geometry.KDTreeSearchParamHybrid(radius=0.1, max_nn=30))\n",
    "\n",
    "# Visualize\n",
    "#o3d.visualization.draw_geometries([filtered_pcd], \n",
    "#                                   point_show_normal=True,\n",
    "#                                   mesh_show_wireframe=True, \n",
    "#                                   mesh_show_back_face=True\n",
    "#                                   )"
   ]
  },
  {
   "cell_type": "code",
   "execution_count": 62,
   "metadata": {},
   "outputs": [
    {
     "name": "stdout",
     "output_type": "stream",
     "text": [
      "Number of points in cube: 90777\n"
     ]
    }
   ],
   "source": [
    "print(f\"Number of points in cube: {len(filtered_pcd.points)}\")"
   ]
  },
  {
   "cell_type": "markdown",
   "metadata": {},
   "source": [
    "# 08. Create a grid out of those points that are left\n",
    "\n",
    "Not used"
   ]
  },
  {
   "cell_type": "code",
   "execution_count": 63,
   "metadata": {},
   "outputs": [],
   "source": [
    "# Define the voxel size for the grid\n",
    "voxel_size = 0.00001  # Adjust this value based on your data\n",
    "\n",
    "# Create a voxel grid from the non-plane point cloud\n",
    "voxel_grid = o3d.geometry.VoxelGrid.create_from_point_cloud(filtered_pcd, voxel_size)\n",
    "\n",
    "\n",
    "# Visualize the voxel grid\n",
    "#o3d.visualization.draw_geometries([voxel_grid],height=800, width=800)"
   ]
  },
  {
   "cell_type": "markdown",
   "metadata": {},
   "source": [
    "# 09. Create triangle mesh out of the points that are left\n",
    "not used"
   ]
  },
  {
   "cell_type": "code",
   "execution_count": 64,
   "metadata": {},
   "outputs": [],
   "source": [
    "# Ensure normals are oriented consistently\n",
    "filtered_pcd.orient_normals_consistent_tangent_plane(100)\n",
    "\n",
    "# Poisson surface reconstruction\n",
    "mesh, densities = o3d.geometry.TriangleMesh.create_from_point_cloud_poisson(filtered_pcd, depth=5)\n",
    "\n",
    "# Crop the mesh to remove unwanted parts\n",
    "bbox = filtered_pcd.get_axis_aligned_bounding_box()\n",
    "mesh = mesh.crop(bbox)\n",
    "\n",
    "# Visualize the reconstructed mesh\n",
    "o3d.visualization.draw_geometries([mesh], \n",
    "                                  mesh_show_wireframe=True,\n",
    "                                  mesh_show_back_face=True\n",
    "                                  )"
   ]
  },
  {
   "cell_type": "markdown",
   "metadata": {},
   "source": [
    "# 09.b Extract edges\n"
   ]
  },
  {
   "cell_type": "markdown",
   "metadata": {},
   "source": [
    "edges between 2 neighbours - short version "
   ]
  },
  {
   "cell_type": "code",
   "execution_count": 70,
   "metadata": {},
   "outputs": [],
   "source": [
    "# Visualize filtered point cloud\n",
    "#o3d.visualization.draw_geometries([filtered_pcd], height=800, width=800)\n",
    "voxel_size = 0.00001\n",
    "\n",
    "def calculate_angle_between_normals(normal1, normal2):\n",
    "    \"\"\"Calculate the angle between two normals in degrees.\"\"\"\n",
    "    dot_product = np.dot(normal1, normal2)\n",
    "    dot_product = np.clip(dot_product, -1.0, 1.0)  # Clip to the range [-1, 1]\n",
    "    angle = np.arccos(dot_product) * (180.0 / np.pi)\n",
    "    return angle\n",
    "\n",
    "# Convert points and normals to numpy arrays\n",
    "points = np.asarray(filtered_pcd.points)\n",
    "normals = np.asarray(filtered_pcd.normals)\n",
    "\n",
    "# KDTree for neighbor search\n",
    "kdtree = o3d.geometry.KDTreeFlann(filtered_pcd)\n",
    "\n",
    "# Define the angle threshold\n",
    "angle_threshold = 45.0  # in degrees\n",
    "\n",
    "# List to store indices of points to keep\n",
    "indices_to_keep = []\n",
    "\n",
    "# Iterate over all points\n",
    "for i in range(len(points)):\n",
    "    [_, idx, _] = kdtree.search_radius_vector_3d(filtered_pcd.points[i], voxel_size * 2)\n",
    "    keep_point = False\n",
    "    for j in idx:\n",
    "        if i != j:\n",
    "            angle = calculate_angle_between_normals(normals[i], normals[j])\n",
    "            if angle > angle_threshold:\n",
    "                keep_point = True\n",
    "                break\n",
    "    if keep_point:\n",
    "        indices_to_keep.append(i)\n",
    "\n",
    "# Select the filtered points\n",
    "filtered_points = filtered_pcd.select_by_index(indices_to_keep)\n",
    "\n",
    "# Visualize the filtered points\n",
    "o3d.visualization.draw_geometries([filtered_points], height=800, width=800)"
   ]
  },
  {
   "cell_type": "markdown",
   "metadata": {},
   "source": [
    "5 neighbours in any direction - long version"
   ]
  },
  {
   "cell_type": "code",
   "execution_count": 69,
   "metadata": {},
   "outputs": [],
   "source": [
    "import open3d as o3d\n",
    "import numpy as np\n",
    "\n",
    "def calculate_angle_between_normals(normal1, normal2):\n",
    "    \"\"\"Calculate the angle between two normals in degrees.\"\"\"\n",
    "    dot_product = np.dot(normal1, normal2)\n",
    "    dot_product = np.clip(dot_product, -1.0, 1.0)  # Clip to the range [-1, 1]\n",
    "    angle = np.arccos(dot_product) * (180.0 / np.pi)\n",
    "    return angle\n",
    "\n",
    "# Load the point cloud\n",
    "# pcd = o3d.io.read_point_cloud(\"point_cloud.ply\")\n",
    "\n",
    "# # Downsample the point cloud (optional)\n",
    "# voxel_size = 0.0001\n",
    "# filtered_pcd = pcd.voxel_down_sample(voxel_size=voxel_size)\n",
    "\n",
    "# Estimate normals\n",
    "#filtered_pcd.estimate_normals(search_param=o3d.geometry.KDTreeSearchParamHybrid(radius=0.1, max_nn=30))\n",
    "\n",
    "# Convert points and normals to numpy arrays\n",
    "points = np.asarray(filtered_pcd.points)\n",
    "normals = np.asarray(filtered_pcd.normals)\n",
    "\n",
    "# KDTree for neighbor search\n",
    "kdtree = o3d.geometry.KDTreeFlann(filtered_pcd)\n",
    "\n",
    "# Define the angle threshold\n",
    "angle_threshold = 45.0  # in degrees\n",
    "\n",
    "# List to store indices of points to keep\n",
    "indices_to_keep = []\n",
    "\n",
    "# Iterate over all points\n",
    "for i in range(len(points)):\n",
    "    [_, idx, _] = kdtree.search_radius_vector_3d(filtered_pcd.points[i], voxel_size * 2)\n",
    "    keep_point = False\n",
    "    for j in idx:\n",
    "        if i != j:\n",
    "            angle = calculate_angle_between_normals(normals[i], normals[j])\n",
    "            if angle > angle_threshold:\n",
    "                for k in idx:\n",
    "                    if k != i and k != j:\n",
    "                        opposite_angle = calculate_angle_between_normals(normals[i], normals[k])\n",
    "                        if opposite_angle > angle_threshold:\n",
    "                            keep_point = True\n",
    "                            break\n",
    "                if keep_point:\n",
    "                    break\n",
    "    if keep_point:\n",
    "        indices_to_keep.append(i)\n",
    "\n",
    "# Select the filtered points\n",
    "filtered_points = filtered_pcd.select_by_index(indices_to_keep)\n",
    "\n",
    "# Visualize the filtered points\n",
    "o3d.visualization.draw_geometries([filtered_points], height=800, width=800)"
   ]
  },
  {
   "cell_type": "markdown",
   "metadata": {},
   "source": [
    "Try to optimize for better performance"
   ]
  },
  {
   "cell_type": "markdown",
   "metadata": {},
   "source": [
    "# 10.a Try create a convex hull"
   ]
  },
  {
   "cell_type": "code",
   "execution_count": 74,
   "metadata": {},
   "outputs": [],
   "source": [
    "# Downsample \n",
    "voxel_size = 0.0001  # Adjust this value based on your data\n",
    "filtered_points_down = filtered_points.voxel_down_sample(voxel_size=voxel_size)\n"
   ]
  },
  {
   "cell_type": "code",
   "execution_count": 75,
   "metadata": {},
   "outputs": [],
   "source": [
    "hull, _ = filtered_points_down.compute_convex_hull()\n",
    "hull_ls = o3d.geometry.LineSet.create_from_triangle_mesh(hull)\n",
    "hull_ls.paint_uniform_color([1, 0, 0])\n",
    "o3d.visualization.draw_geometries([filtered_points_down, hull_ls])"
   ]
  },
  {
   "cell_type": "markdown",
   "metadata": {},
   "source": [
    "# 10.b Try to bound the box around the object\n",
    "\n",
    "--- Does not look satisfactionary"
   ]
  },
  {
   "cell_type": "code",
   "execution_count": 15,
   "metadata": {},
   "outputs": [],
   "source": [
    "# obb = filtered_pcd.get_oriented_bounding_box()\n",
    "# obb.color = [0, 1, 0]\n",
    "# o3d.visualization.draw_geometries([filtered_pcd, obb])"
   ]
  },
  {
   "cell_type": "code",
   "execution_count": null,
   "metadata": {},
   "outputs": [],
   "source": []
  },
  {
   "cell_type": "markdown",
   "metadata": {},
   "source": [
    "# 10.c Use ball pivoting to estimate mesh"
   ]
  },
  {
   "cell_type": "code",
   "execution_count": null,
   "metadata": {},
   "outputs": [],
   "source": [
    "cras "
   ]
  },
  {
   "cell_type": "code",
   "execution_count": 16,
   "metadata": {},
   "outputs": [],
   "source": [
    "# Downsample to make compuatations feasible\n",
    "down_pcd = filtered_pcd.voxel_down_sample(voxel_size=0.00001)\n",
    "down_pcd.estimate_normals(search_param=o3d.geometry.KDTreeSearchParamHybrid(radius=0.1, max_nn=30))\n",
    "o3d.visualization.draw_geometries([down_pcd], \n",
    "                                   point_show_normal=True,\n",
    "                                   mesh_show_wireframe=True, \n",
    "                                   mesh_show_back_face=True\n",
    "                                   )\n",
    "\n",
    "print(f\"Number of points in non plane: {len(down_pcd.points)}\")"
   ]
  },
  {
   "cell_type": "code",
   "execution_count": null,
   "metadata": {},
   "outputs": [],
   "source": [
    "voxel_size = 0.00001\n",
    "print(f\"Voxel size: {voxel_size}\")\n",
    "radii = [8 * voxel_size, 4*voxel_size, 16* voxel_size]#, 0.000002]\n",
    "rec_mesh = o3d.geometry.TriangleMesh.create_from_point_cloud_ball_pivoting(\n",
    "    down_pcd, o3d.utility.DoubleVector(radii)\n",
    ")"
   ]
  },
  {
   "cell_type": "code",
   "execution_count": 21,
   "metadata": {},
   "outputs": [],
   "source": [
    "# Visualize\n",
    "o3d.visualization.draw_geometries([rec_mesh], \n",
    "                                  mesh_show_wireframe=True,\n",
    "                                  mesh_show_back_face=True\n",
    "                                  )"
   ]
  },
  {
   "cell_type": "code",
   "execution_count": null,
   "metadata": {},
   "outputs": [],
   "source": []
  }
 ],
 "metadata": {
  "kernelspec": {
   "display_name": "open3d_env",
   "language": "python",
   "name": "python3"
  },
  "language_info": {
   "codemirror_mode": {
    "name": "ipython",
    "version": 3
   },
   "file_extension": ".py",
   "mimetype": "text/x-python",
   "name": "python",
   "nbconvert_exporter": "python",
   "pygments_lexer": "ipython3",
   "version": "3.10.16"
  }
 },
 "nbformat": 4,
 "nbformat_minor": 2
}
