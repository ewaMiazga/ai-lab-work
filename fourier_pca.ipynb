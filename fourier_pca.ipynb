{
 "cells": [
  {
   "cell_type": "markdown",
   "metadata": {},
   "source": [
    "## 05. PCA - showing 5 most important componenents of the image\n",
    "\n",
    "- Whats the point of extracting the PCA components from the single image ?\n",
    "Take only most dominant frequencies of the fourier transform. It means that we indentify only the most important patterns. Next we can use those patterns to reconstruct the image. \n",
    "\n",
    "- I pefromed pca only on magnitudes, **so all the spacial information are gone**\n"
   ]
  },
  {
   "cell_type": "markdown",
   "metadata": {},
   "source": [
    "### Understanding the importance of a phase and magnitude in the FFT image\n",
    "\n",
    "\n",
    "Magnitude Defines Structure but Not Exact Details\n",
    "\n",
    "- **The magnitude spectrum captures the intensity of frequency components but loses spatial** positioning information.\n",
    "If you keep only the magnitude and remove phase, the reconstructed image often appears blurred and unrecognizable.\n",
    "\n",
    "✅ Phase Contains Crucial Structural Information\n",
    "\n",
    "- **The phase spectrum carries spatial positioning information of the frequencies.**\n",
    "If you keep only the phase and set all magnitudes to the same value, the reconstructed image still retains a recognizable structure (although contrast is lost).\n",
    "This proves that phase is more critical for reconstructing identifiable patterns than magnitude."
   ]
  },
  {
   "cell_type": "code",
   "execution_count": null,
   "metadata": {
    "vscode": {
     "languageId": "plaintext"
    }
   },
   "outputs": [],
   "source": [
    "from sklearn.decomposition import PCA\n",
    "\n",
    "\n",
    "magnitude_spectrum = np.abs(frequencies[0].reshape(28,28))  # Get magnitude (ignore phase)\n",
    "\n",
    "print(magnitude_spectrum.shape)\n",
    "# Flatten the frequency image for PCA\n",
    "flat_fft = magnitude_spectrum\n",
    "\n",
    "# Apply PCA (keep 10 principal components)\n",
    "pca = PCA(n_components=5)\n",
    "pca_transformed = pca.fit_transform(flat_fft)  # Apply PCA\n",
    "principal_components = pca.components_  # Get principal components\n",
    "\n",
    "# Reshape components back to 28x28 for visualization\n",
    "pca_images = [pc for pc in principal_components]\n",
    "\n",
    "# Visualize the top PCA components\n",
    "fig, axes = plt.subplots(1, 5, figsize=(12, 5))\n",
    "for i, ax in enumerate(axes.flat):\n",
    "    ax.imshow(principal_components[i].reshape(28, -1), cmap=\"inferno\")\n",
    "    ax.set_title(f\"PC {i+1}\")\n",
    "    ax.axis(\"off\")\n",
    "\n",
    "plt.suptitle(\"Top 5 PCA Components from Fourier Transformed Image\")\n",
    "plt.show()"
   ]
  },
  {
   "cell_type": "code",
   "execution_count": null,
   "metadata": {
    "vscode": {
     "languageId": "plaintext"
    }
   },
   "outputs": [],
   "source": [
    "# Calculate the most important PCA components for class of images with chosen label\n",
    "\n",
    "def pca_components_for_digit(digit, frequencies, num_components=5):\n",
    "    # Get indices of the digit\n",
    "    indices = digit * 10 + np.arange(10)\n",
    "    indices = indices[:10]\n",
    "    avg = avg_magnitudes[digit].reshape(28, 28)\n",
    "\n",
    "    # Get magnitude spectrums for the digit\n",
    "    magnitude_spectrums = [np.abs(frequencies[idx].reshape(28, 28)) for idx in indices] + [avg]\n",
    "    # Apply PCA on the magnitude spectrums\n",
    "    pca_components = []\n",
    "    for magnitude_spectrum in magnitude_spectrums:\n",
    "        flat_fft = magnitude_spectrum\n",
    "        pca = PCA(n_components=num_components)\n",
    "        pca_transformed = pca.fit_transform(flat_fft)\n",
    "        principal_components = pca.components_\n",
    "        pca_components.append(principal_components)\n",
    "\n",
    "    return pca_components\n",
    "\n",
    "pca_components_0 = pca_components_for_digit(0, frequencies, num_components=5)\n",
    "\n",
    "print(pca_components_0[0].shape)\n",
    "print(len(pca_components_0))"
   ]
  },
  {
   "cell_type": "markdown",
   "metadata": {},
   "source": [
    "## 06. Show the correlation between first 5 most important PCA components\n",
    "\n",
    "We consider only images of the same digit, so corresponding to the same clas. \n",
    "What would be expected is to see some correlation between components, it would mean that they are able to represent the class correctly.\n",
    "\n",
    "\n",
    "We have list of (11, 5, 28)\n",
    "- 11 fourier transfored mnist images (10 transformed images and 11th that is a AVG of all transforms maps of the same digit class)\n",
    "- 5 PCA components per image\n",
    "- component is a one dimensional list of 28"
   ]
  },
  {
   "cell_type": "code",
   "execution_count": null,
   "metadata": {},
   "outputs": [],
   "source": [
    "# Calcluate correlation mateix between PCA components for all freq of chosen digit class\n",
    "\n",
    "def pca_correlation_matrix(pca_components):\n",
    "    num_components = pca_components[0].shape[0]\n",
    "    num_images = len(pca_components)\n",
    "\n",
    "    pca_components_flattened = np.array(pca_components).reshape(num_images, num_components, -1)\n",
    "\n",
    "    # Create a separate correlation matrix for each component\n",
    "    correlation_matrices = []\n",
    "    for i in range(num_components):\n",
    "        component_data = pca_components_flattened[:, i, :]\n",
    "        corr_matrix = np.corrcoef(component_data)\n",
    "        correlation_matrices.append(corr_matrix)\n",
    "\n",
    "    return correlation_matrices\n",
    "\n",
    "corr_matrices_pca = pca_correlation_matrix(pca_components_0)\n",
    "\n",
    "# Display correlation matrix and meaningful interpretation\n",
    "fig, axes = plt.subplots(1, 5, figsize=(20, 4))\n",
    "for i, ax in enumerate(axes.flat):\n",
    "    ax.imshow(corr_matrices_pca[i])#, cmap=\"coolwarm\", vmin=-1, vmax=1)\n",
    "    ax.set_title(f\"Correlation Matrix for PC {i+1}\")\n",
    "    ax.set_xticks(np.arange(0, 11, 1))\n",
    "    ax.set_yticks(np.arange(0, 11, 1))\n",
    "    ax.set_xticklabels(list(range(10)) + [\"AVG\"])\n",
    "    ax.set_yticklabels(list(range(10)) + [\"AVG\"])\n",
    "    ax.grid(False)\n",
    "plt.tight_layout()\n",
    "plt.show()\n",
    "\n",
    "\n"
   ]
  },
  {
   "cell_type": "markdown",
   "metadata": {},
   "source": [
    "## 07. Calculate pca correlation for pictures of all images - all classes"
   ]
  },
  {
   "cell_type": "code",
   "execution_count": null,
   "metadata": {},
   "outputs": [],
   "source": [
    "# Use pca_correlation_matrix function and calculate those matrices for all digits\n",
    "corr_matrices_pca_all = [pca_correlation_matrix(pca_components_for_digit(digit, frequencies, num_components=5)) for digit in range(10)]\n",
    "\n",
    "# Display correlation matrix and meaningful interpretation\n",
    "fig, axes = plt.subplots(10, 5, figsize=(20, 40))\n",
    "for i, row in enumerate(axes):\n",
    "    for j, ax in enumerate(row):\n",
    "        ax.imshow(corr_matrices_pca_all[i][j])#, cmap=\"coolwarm\", vmin=-1, vmax=1)\n",
    "        ax.set_title(f\"Digit {i}, PC {j+1}\")\n",
    "        ax.set_xticks(np.arange(0, 11, 1))\n",
    "        ax.set_yticks(np.arange(0, 11, 1))\n",
    "        ax.set_xticklabels(list(range(10)) + [\"AVG\"])\n",
    "        ax.set_yticklabels(list(range(10)) + [\"AVG\"])\n",
    "        ax.grid(False)\n",
    "plt.tight_layout()\n",
    "plt.show()\n",
    "\n",
    "\n"
   ]
  },
  {
   "cell_type": "markdown",
   "metadata": {},
   "source": [
    "## 08. Visualize the influence of the component to the image"
   ]
  },
  {
   "cell_type": "code",
   "execution_count": null,
   "metadata": {},
   "outputs": [],
   "source": [
    "import numpy as np\n",
    "import matplotlib.pyplot as plt\n",
    "from numpy.fft import fft2, ifft2, fftshift, ifftshift\n",
    "from sklearn.decomposition import PCA\n",
    "\n",
    "# Example data (replace with actual precomputed data)\n",
    "num_images = 10 #len(fft_images)\n",
    "image_shape = fft_images[0].shape\n",
    "\n",
    "# Reconstruct the magnitude spectrum using PCA components\n",
    "reconstructed_magnitude_spectrum = np.zeros_like(frequencies[0].flatten())\n",
    "#reconstructed_magnitude_spectrum += pca.components_[0]  # Using the first principal component for demonstration\n",
    "num_components_to_use = 5\n",
    "for i in range(num_components_to_use):\n",
    "    reconstructed_magnitude_spectrum += pca.components_[i]\n",
    "\n",
    "\n",
    "# Reshape to original image shape\n",
    "reconstructed_magnitude_spectrum = reconstructed_magnitude_spectrum.reshape(image_shape)\n",
    "\n",
    "# Combine reconstructed magnitude with original phase\n",
    "reconstructed_fft_images = []\n",
    "for i in range(num_images):\n",
    "    original_phase = np.angle(fft_images[i])\n",
    "    reconstructed_magnitude = np.exp(reconstructed_magnitude_spectrum) - 1\n",
    "    reconstructed_fft = reconstructed_magnitude * np.exp(1j * original_phase)\n",
    "    reconstructed_fft_images.append(reconstructed_fft)\n",
    "\n",
    "# Convert back to spatial domain using Inverse FFT\n",
    "reconstructed_images = [np.abs(ifft2(ifftshift(reconstructed_fft))) for reconstructed_fft in reconstructed_fft_images]\n",
    "\n",
    "# Display the original and reconstructed images\n",
    "fig, axes = plt.subplots(2, num_images, figsize=(20, 8))\n",
    "for i in range(num_images):\n",
    "    # Display original image\n",
    "    axes[0, i].imshow(np.abs(ifft2(ifftshift(fft_images[i]))), cmap=\"gray\")\n",
    "    axes[0, i].set_title(f\"Original Digit {i}\")\n",
    "    axes[0, i].axis(\"off\")\n",
    "\n",
    "    # Display reconstructed image\n",
    "    axes[1, i].imshow(reconstructed_images[i], cmap=\"gray\")\n",
    "    axes[1, i].set_title(f\"Reconstructed Digit {i}\")\n",
    "    axes[1, i].axis(\"off\")\n",
    "\n",
    "plt.suptitle(\"Original and Reconstructed Images Using PCA Components from Magnitudes\", fontsize=16)\n",
    "plt.tight_layout(rect=[0, 0, 1, 0.96])\n",
    "plt.show()"
   ]
  },
  {
   "cell_type": "markdown",
   "metadata": {},
   "source": []
  }
 ],
 "metadata": {
  "language_info": {
   "name": "python"
  }
 },
 "nbformat": 4,
 "nbformat_minor": 2
}
