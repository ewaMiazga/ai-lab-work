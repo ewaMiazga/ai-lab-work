{
  "cells": [
    {
      "cell_type": "code",
      "execution_count": null,
      "metadata": {
        "colab": {
          "base_uri": "https://localhost:8080/",
          "height": 525
        },
        "id": "y0e7wJM5dYL7",
        "outputId": "cf499197-9240-4012-9d1e-aaecd5d05d14"
      },
      "outputs": [
        {
          "output_type": "stream",
          "name": "stdout",
          "text": [
            "Requirement already satisfied: minigrid in /usr/local/lib/python3.10/dist-packages (3.0.0)\n",
            "Requirement already satisfied: numpy>=1.18.0 in /usr/local/lib/python3.10/dist-packages (from minigrid) (1.26.4)\n",
            "Requirement already satisfied: gymnasium>=0.28.1 in /usr/local/lib/python3.10/dist-packages (from minigrid) (1.0.0)\n",
            "Requirement already satisfied: pygame>=2.4.0 in /usr/local/lib/python3.10/dist-packages (from minigrid) (2.6.1)\n",
            "Requirement already satisfied: cloudpickle>=1.2.0 in /usr/local/lib/python3.10/dist-packages (from gymnasium>=0.28.1->minigrid) (3.1.0)\n",
            "Requirement already satisfied: typing-extensions>=4.3.0 in /usr/local/lib/python3.10/dist-packages (from gymnasium>=0.28.1->minigrid) (4.12.2)\n",
            "Requirement already satisfied: farama-notifications>=0.0.1 in /usr/local/lib/python3.10/dist-packages (from gymnasium>=0.28.1->minigrid) (0.0.4)\n"
          ]
        },
        {
          "output_type": "error",
          "ename": "ModuleNotFoundError",
          "evalue": "No module named 'minigrid.e'",
          "traceback": [
            "\u001b[0;31m---------------------------------------------------------------------------\u001b[0m",
            "\u001b[0;31mModuleNotFoundError\u001b[0m                       Traceback (most recent call last)",
            "\u001b[0;32m<ipython-input-37-710a2fce699c>\u001b[0m in \u001b[0;36m<cell line: 3>\u001b[0;34m()\u001b[0m\n\u001b[1;32m      1\u001b[0m \u001b[0mget_ipython\u001b[0m\u001b[0;34m(\u001b[0m\u001b[0;34m)\u001b[0m\u001b[0;34m.\u001b[0m\u001b[0msystem\u001b[0m\u001b[0;34m(\u001b[0m\u001b[0;34m'pip install minigrid'\u001b[0m\u001b[0;34m)\u001b[0m\u001b[0;34m\u001b[0m\u001b[0;34m\u001b[0m\u001b[0m\n\u001b[1;32m      2\u001b[0m \u001b[0;32mimport\u001b[0m \u001b[0mminigrid\u001b[0m\u001b[0;34m\u001b[0m\u001b[0;34m\u001b[0m\u001b[0m\n\u001b[0;32m----> 3\u001b[0;31m \u001b[0;32mimport\u001b[0m \u001b[0mminigrid\u001b[0m\u001b[0;34m.\u001b[0m\u001b[0me\u001b[0m\u001b[0;34m\u001b[0m\u001b[0;34m\u001b[0m\u001b[0m\n\u001b[0m\u001b[1;32m      4\u001b[0m \u001b[0;32mimport\u001b[0m \u001b[0mnvs\u001b[0m \u001b[0;32mas\u001b[0m \u001b[0menvsS\u001b[0m\u001b[0;34m\u001b[0m\u001b[0;34m\u001b[0m\u001b[0m\n\u001b[1;32m      5\u001b[0m \u001b[0;34m\u001b[0m\u001b[0m\n",
            "\u001b[0;31mModuleNotFoundError\u001b[0m: No module named 'minigrid.e'",
            "",
            "\u001b[0;31m---------------------------------------------------------------------------\u001b[0;32m\nNOTE: If your import is failing due to a missing package, you can\nmanually install dependencies using either !pip or !apt.\n\nTo view examples of installing some common dependencies, click the\n\"Open Examples\" button below.\n\u001b[0;31m---------------------------------------------------------------------------\u001b[0m\n"
          ],
          "errorDetails": {
            "actions": [
              {
                "action": "open_url",
                "actionText": "Open Examples",
                "url": "/notebooks/snippets/importing_libraries.ipynb"
              }
            ]
          }
        }
      ],
      "source": [
        "!pip install minigrid\n",
        "import minigrid\n",
        "import minigrid.e\n",
        "import nvs as envsS\n",
        "\n",
        "import numpy as np"
      ]
    },
    {
      "cell_type": "markdown",
      "metadata": {
        "id": "5pnY9VuWdYL8"
      },
      "source": [
        "# 1. Create dataset"
      ]
    },
    {
      "cell_type": "code",
      "execution_count": null,
      "metadata": {
        "colab": {
          "base_uri": "https://localhost:8080/"
        },
        "id": "fR9xsYccdYL9",
        "outputId": "21bcda76-ace6-4433-fc40-0940e9524229"
      },
      "outputs": [
        {
          "output_type": "stream",
          "name": "stdout",
          "text": [
            "Actions shape: (100000,)\n",
            "Data shape: (100000, 2, 7, 7, 3)\n"
          ]
        }
      ],
      "source": [
        "env = envs.MultiRoomEnv(2, 4)\n",
        "observation, info = env.reset(seed=42)\n",
        "\n",
        "num_samples = 100000\n",
        "prev_ob = observation\n",
        "\n",
        "data = []\n",
        "actions = []\n",
        "for _ in range(num_samples):\n",
        "\n",
        "\t# Choose randomly from the action space\n",
        "   action = env.action_space.sample() # User-defined policy function\n",
        "   observation, reward, terminated, truncated, info = env.step(action)\n",
        "   #print(action)\n",
        "   #print(observation)\n",
        "\n",
        "   next_ob = observation\n",
        "\n",
        "   # Store the data\n",
        "   actions.append(action)\n",
        "   data.append((prev_ob['image'], next_ob['image']))\n",
        "\n",
        "env.close()\n",
        "\n",
        "data = np.array(data)\n",
        "actions = np.array(actions)\n",
        "print(f\"Actions shape: {actions.shape}\")\n",
        "print(f\"Data shape: {data.shape}\")"
      ]
    },
    {
      "cell_type": "code",
      "source": [
        "# selected_slice = data[:, 0, :, :, 0]\n",
        "\n",
        "# # Check where the values are greater than 2\n",
        "# greater_than_2 = selected_slice > 2\n",
        "\n",
        "# # Count samples with any value > 2 in the 3D slice\n",
        "# count = np.sum(np.any(greater_than_2, axis=(1, 2)))\n",
        "# print(count)"
      ],
      "metadata": {
        "id": "xyygOaOzAEbi"
      },
      "execution_count": null,
      "outputs": []
    },
    {
      "cell_type": "markdown",
      "metadata": {
        "id": "H6BZNMy5dYL9"
      },
      "source": [
        "### 1.1 Min max values from dataset\n",
        "\n",
        "Useful to know what the size of one-hot encoded arrey will be"
      ]
    },
    {
      "cell_type": "code",
      "execution_count": null,
      "metadata": {
        "colab": {
          "base_uri": "https://localhost:8080/"
        },
        "id": "zsVvpnYadYL9",
        "outputId": "000b6917-5f96-438a-c35a-e8a3c75ec39e"
      },
      "outputs": [
        {
          "output_type": "stream",
          "name": "stdout",
          "text": [
            "Max-min values from the data: 0, 8, number of unique values: 7, which are: [0 1 2 3 4 5 8]\n",
            "Type saved in data: uint8\n",
            "Max-min values from the actions: 0, 6, number of unique values: 7, which are: [0 1 2 3 4 5 6]\n",
            "Type saved in actions: int64\n"
          ]
        }
      ],
      "source": [
        "# Find min - max values\n",
        "min_val = np.min(data[0:])\n",
        "max_val = np.max(data[0:])\n",
        "unique_val  = len(np.unique(data))\n",
        "print(f\"Max-min values from the data: {min_val}, {max_val}, number of unique values: {unique_val}, which are: {np.unique(data)}\")\n",
        "print(f\"Type saved in data: {data.dtype}\")\n",
        "\n",
        "min_val = np.min(actions)\n",
        "max_val = np.max(actions)\n",
        "unique_val  = len(np.unique(actions))\n",
        "print(f\"Max-min values from the actions: {min_val}, {max_val}, number of unique values: {unique_val}, which are: {np.unique(actions)}\")\n",
        "print(f\"Type saved in actions: {actions.dtype}\")"
      ]
    },
    {
      "cell_type": "markdown",
      "metadata": {
        "id": "GUoYyFpXdYL9"
      },
      "source": [
        "### 1.2 One-hot encoding\n",
        "\n",
        "Create a identity matrix with 6 rows, and it indexes it by `data`"
      ]
    },
    {
      "cell_type": "code",
      "execution_count": null,
      "metadata": {
        "colab": {
          "base_uri": "https://localhost:8080/"
        },
        "id": "vESI1ql1dYL9",
        "outputId": "b3e3e166-5e71-490d-e51d-3b8addf9b90d"
      },
      "outputs": [
        {
          "output_type": "stream",
          "name": "stdout",
          "text": [
            "Possible values of objects idx: 11\n",
            "One hot encoded shape: (100000, 2, 7, 7, 3, 11)\n",
            "Type saved in one hot encoded: float64\n",
            "Possible values of actions idx: 7\n",
            "One hot encoded shape: (100000, 7)\n",
            "Type saved in one hot encoded: float64\n"
          ]
        }
      ],
      "source": [
        "pos_val = len(minigrid.core.constants.OBJECT_TO_IDX)\n",
        "print(f\"Possible values of objects idx: {pos_val}\")\n",
        "\n",
        "one_hot_data = np.eye(pos_val)[data]\n",
        "print(f\"One hot encoded shape: {one_hot_data.shape}\")\n",
        "print(f\"Type saved in one hot encoded: {one_hot_data.dtype}\")\n",
        "\n",
        "pos_act_val = env.action_space.n\n",
        "print(f\"Possible values of actions idx: {pos_act_val}\")\n",
        "\n",
        "one_hot_actions = np.eye(pos_act_val)[actions]\n",
        "print(f\"One hot encoded shape: {one_hot_actions.shape}\")\n",
        "print(f\"Type saved in one hot encoded: {one_hot_actions.dtype}\")"
      ]
    },
    {
      "cell_type": "markdown",
      "metadata": {
        "id": "LdZKizmLdYL-"
      },
      "source": [
        "### 1.3 Flatten the arrays & save them into X, y\n",
        "* flatten arrays representing actions & states\n",
        "> State: (7, 7, 3, `pos_val`) -> (7 * 7 * 3 * `pos_val`)\n",
        ">\n",
        "> Actions: int -> (`pos_val_act`)\n",
        "\n",
        "* save into `X`, `y`\n",
        "> `X` = ( `state`, `action`) [1617, 7] - after one hot encoding\n",
        ">\n",
        "> `y` = ( `next_state`) [1617] - after one hot encoding"
      ]
    },
    {
      "cell_type": "code",
      "execution_count": null,
      "metadata": {
        "colab": {
          "base_uri": "https://localhost:8080/"
        },
        "id": "MtOaXaGMdYL-",
        "outputId": "c83f7333-0c7d-4e7b-f184-9e31d44e9dc7"
      },
      "outputs": [
        {
          "output_type": "stream",
          "name": "stdout",
          "text": [
            "Shapes of X and y: (100000, 1624), (100000, 1617)\n",
            "Type saved in X: float64\n",
            "Type saved in y: float64\n"
          ]
        }
      ],
      "source": [
        "flatten_states = one_hot_data[:, 0].reshape(-1, 7*7*3*pos_val)\n",
        "X = np.concatenate((flatten_states, one_hot_actions), axis=1)\n",
        "\n",
        "y = one_hot_data[:, 1].reshape((-1, 7*7*3*pos_val))\n",
        "\n",
        "print(f\"Shapes of X and y: {X.shape}, {y.shape}\")\n",
        "print(f\"Type saved in X: {X.dtype}\")\n",
        "print(f\"Type saved in y: {y.dtype}\")"
      ]
    },
    {
      "cell_type": "markdown",
      "metadata": {
        "id": "63G4ooSVdYL-"
      },
      "source": [
        "# 2. Pytorch datasets\n",
        "Using Tensors to be able to use the GPU"
      ]
    },
    {
      "cell_type": "markdown",
      "metadata": {
        "id": "T5Nw99USdYL-"
      },
      "source": [
        "### 2.1 Setting device agnostic code"
      ]
    },
    {
      "cell_type": "code",
      "execution_count": null,
      "metadata": {
        "colab": {
          "base_uri": "https://localhost:8080/",
          "height": 36
        },
        "id": "DNFvCw2zdYL-",
        "outputId": "6e8fee2a-7f28-425b-c4e4-be172fd2cd4d"
      },
      "outputs": [
        {
          "output_type": "execute_result",
          "data": {
            "text/plain": [
              "'cpu'"
            ],
            "application/vnd.google.colaboratory.intrinsic+json": {
              "type": "string"
            }
          },
          "metadata": {},
          "execution_count": 43
        }
      ],
      "source": [
        "import torch\n",
        "\n",
        "device =  \"cuda\" if torch.cuda.is_available() else \"cpu\"\n",
        "device"
      ]
    },
    {
      "cell_type": "markdown",
      "source": [
        "### 2.2 Setting data to tensors\n",
        "\n",
        "Sending tensors to device to ensure that they are on the same device as the models"
      ],
      "metadata": {
        "id": "_JO_cG7kkUon"
      }
    },
    {
      "cell_type": "code",
      "source": [
        "X = torch.from_numpy(X).to(device).type(torch.float32)\n",
        "y = torch.from_numpy(y).to(device).type(torch.float32)\n",
        "\n",
        "print(f\"Shapes of X and y: {X.shape}, {y.shape}\")"
      ],
      "metadata": {
        "colab": {
          "base_uri": "https://localhost:8080/"
        },
        "id": "eGuxEg-ukZRG",
        "outputId": "ad2d479c-edd0-4fe3-e3ae-3ad16f22dfb3"
      },
      "execution_count": null,
      "outputs": [
        {
          "output_type": "stream",
          "name": "stdout",
          "text": [
            "Shapes of X and y: torch.Size([100000, 1624]), torch.Size([100000, 1617])\n"
          ]
        }
      ]
    },
    {
      "cell_type": "markdown",
      "source": [
        "### 2.3 Split the data into train (`train_X`, `train_y`) and test (`test_X`, `test_y`)"
      ],
      "metadata": {
        "id": "Asqf7RkrktoJ"
      }
    },
    {
      "cell_type": "code",
      "source": [
        "from sklearn.model_selection import train_test_split\n",
        "\n",
        "train_X, test_X, train_y, test_y = train_test_split(X, y,\n",
        "                                                    test_size=0.2,\n",
        "                                                    random_state=42)\n",
        "\n",
        "print(f\"Shapes of train_X and train_y: {train_X.shape}, {train_y.shape}\")\n",
        "print(f\"Shapes of test_X and test_y: {test_X.shape}, {test_y.shape}\")"
      ],
      "metadata": {
        "colab": {
          "base_uri": "https://localhost:8080/"
        },
        "id": "gH46TDKBlErc",
        "outputId": "0c9a446b-2a23-48d6-9634-108e756dc236"
      },
      "execution_count": null,
      "outputs": [
        {
          "output_type": "stream",
          "name": "stdout",
          "text": [
            "Shapes of train_X and train_y: torch.Size([80000, 1624]), torch.Size([80000, 1617])\n",
            "Shapes of test_X and test_y: torch.Size([20000, 1624]), torch.Size([20000, 1617])\n"
          ]
        }
      ]
    },
    {
      "cell_type": "markdown",
      "source": [
        "### 2.4 Create batches\n",
        "\n",
        "Thanks to that the training will be more efficient\n",
        "I will use\n",
        "\n",
        "mini batch of size -> `32`"
      ],
      "metadata": {
        "id": "aWckVImenTOq"
      }
    },
    {
      "cell_type": "code",
      "source": [
        "from torch import Tensor\n",
        "from torch.utils.data import TensorDataset, DataLoader\n",
        "\n",
        "train_dataset = TensorDataset(train_X,\n",
        "                              train_y)\n",
        "\n",
        "train_loader = DataLoader(train_dataset,\n",
        "                          batch_size=32,\n",
        "                          #num_workers=2,\n",
        "                          shuffle=True,\n",
        "                          )\n",
        "\n",
        "test_dataset = TensorDataset(test_X,\n",
        "                             test_y)\n",
        "\n",
        "test_loader = DataLoader(test_dataset,\n",
        "                         #num_workers=2,\n",
        "                         batch_size=32,\n",
        "                         shuffle=False)\n",
        "\n",
        "\n",
        "\n",
        "print(f\"Train dataset size: {len(train_dataset)}\")\n",
        "print(f\"Test dataset size: {len(test_dataset)}\")\n",
        "print(f\"Train loader: {train_loader}\")\n",
        "print(f\"Test loader: {test_loader}\")"
      ],
      "metadata": {
        "colab": {
          "base_uri": "https://localhost:8080/"
        },
        "id": "bb4zEPSwoGNn",
        "outputId": "549a743c-1ea3-4534-ebfc-bc53c01efe7e"
      },
      "execution_count": null,
      "outputs": [
        {
          "output_type": "stream",
          "name": "stdout",
          "text": [
            "Train dataset size: 80000\n",
            "Test dataset size: 20000\n",
            "Train loader: <torch.utils.data.dataloader.DataLoader object at 0x7c072bef7f40>\n",
            "Test loader: <torch.utils.data.dataloader.DataLoader object at 0x7c072bef5ff0>\n"
          ]
        }
      ]
    },
    {
      "cell_type": "markdown",
      "source": [
        "### 2.5 Make train and test iteratable"
      ],
      "metadata": {
        "id": "vmDh5z4TpgX3"
      }
    },
    {
      "cell_type": "code",
      "source": [
        "train_X, train_y = next(iter(train_loader))\n",
        "test_X, test_y = next(iter(test_loader))\n",
        "\n",
        "print(f\"Shapes of train_X and train_y: {train_X.shape}, {train_y.shape}\")\n",
        "print(f\"Shapes of test_X and test_y: {test_X.shape}, {test_y.shape}\")"
      ],
      "metadata": {
        "colab": {
          "base_uri": "https://localhost:8080/"
        },
        "id": "Fe56HXFdpf9W",
        "outputId": "64c8e41c-f3f1-4243-d67f-03a9ead58bd9"
      },
      "execution_count": null,
      "outputs": [
        {
          "output_type": "stream",
          "name": "stdout",
          "text": [
            "Shapes of train_X and train_y: torch.Size([32, 1624]), torch.Size([32, 1617])\n",
            "Shapes of test_X and test_y: torch.Size([32, 1624]), torch.Size([32, 1617])\n"
          ]
        }
      ]
    },
    {
      "cell_type": "markdown",
      "metadata": {
        "id": "WeCVlu2VdYL_"
      },
      "source": [
        "## 3. Models\n",
        "\n",
        "We need 2 models (that will work as state to state transitions):\n",
        "* Model that makes based on the given state gives next state\n",
        "* Model that based on the given state will show previous state\n",
        "\n",
        "The models will be NN networks, trained on dataset gathered in previous section.\n",
        "\n",
        "*Isnt the network of the same architecture for the both `Predict Next state` and `Predict Previous state` ? - I think it is.\n",
        "\n",
        "> What differs is, how they are trained then\n",
        "* treat next state as targets\n",
        "* treat next state as input"
      ]
    },
    {
      "cell_type": "markdown",
      "source": [
        "### 3.1 NN state_next_state"
      ],
      "metadata": {
        "id": "812J6Wd0lqRT"
      }
    },
    {
      "cell_type": "code",
      "source": [
        "from torch import nn\n",
        "\n",
        "class NNStateNextState(nn.Module):\n",
        "  def __init__(self, input_size, state_size_encoded):\n",
        "    super().__init__()\n",
        "\n",
        "    self.layers = nn.Sequential(\n",
        "        nn.Linear(in_features=input_size, out_features=1000),\n",
        "        nn.ReLU(),\n",
        "        nn.Linear(in_features=1000, out_features=500),\n",
        "        nn.ReLU(),\n",
        "        nn.Linear(in_features=500, out_features=500),\n",
        "        nn.ReLU(),\n",
        "        nn.Linear(in_features=500, out_features=1000),\n",
        "        nn.ReLU(),\n",
        "        nn.Linear(in_features=1000, out_features=state_size_encoded),\n",
        "        nn.ReLU(),\n",
        "        nn.Linear(in_features=state_size_encoded, out_features=state_size_encoded),\n",
        "    )\n",
        "\n",
        "  def forward(self, x):\n",
        "    return self.layers(x)\n",
        "\n",
        "input_size = train_X.shape[1]\n",
        "state_size_encoded = train_y.shape[1]\n",
        "next_state_nn = NNStateNextState(input_size=input_size,\n",
        "                                 state_size_encoded=state_size_encoded\n",
        "                                 ).to(device)\n",
        "next_state_nn"
      ],
      "metadata": {
        "colab": {
          "base_uri": "https://localhost:8080/"
        },
        "id": "D8QVTwYGlwD3",
        "outputId": "e094f6e8-2e2f-4faa-de3f-32c1404ca231"
      },
      "execution_count": null,
      "outputs": [
        {
          "output_type": "execute_result",
          "data": {
            "text/plain": [
              "NNStateNextState(\n",
              "  (layers): Sequential(\n",
              "    (0): Linear(in_features=1624, out_features=1000, bias=True)\n",
              "    (1): ReLU()\n",
              "    (2): Linear(in_features=1000, out_features=500, bias=True)\n",
              "    (3): ReLU()\n",
              "    (4): Linear(in_features=500, out_features=500, bias=True)\n",
              "    (5): ReLU()\n",
              "    (6): Linear(in_features=500, out_features=1000, bias=True)\n",
              "    (7): ReLU()\n",
              "    (8): Linear(in_features=1000, out_features=1617, bias=True)\n",
              "    (9): ReLU()\n",
              "    (10): Linear(in_features=1617, out_features=1617, bias=True)\n",
              "  )\n",
              ")"
            ]
          },
          "metadata": {},
          "execution_count": 48
        }
      ]
    },
    {
      "cell_type": "markdown",
      "source": [
        "### 3.2 Set optimizer & loss_function"
      ],
      "metadata": {
        "id": "jHeVUYqwLzqW"
      }
    },
    {
      "cell_type": "code",
      "source": [
        "optimizer = torch.optim.SGD(next_state_nn.parameters(),\n",
        "                            lr=0.1)\n",
        "#optimizer = torch.optim.Adam(next_state_nn.parameters(),\n",
        "#                             lr=0.001)\n",
        "loss_fn = torch.nn.MSELoss()"
      ],
      "metadata": {
        "id": "FFOsRL3nLzE1"
      },
      "execution_count": null,
      "outputs": []
    },
    {
      "cell_type": "markdown",
      "source": [
        "### 3.3 Define the accuracy function for states"
      ],
      "metadata": {
        "id": "Rr_UlsJfNV1O"
      }
    },
    {
      "cell_type": "code",
      "source": [
        "def accuracy_fn(pred_states, true_states):\n",
        "  return sum([1 if torch.all(pred_state == true_state) else 0 for pred_state, true_state in zip(pred_states, true_states) ]) / len(pred_states) * 100"
      ],
      "metadata": {
        "id": "Xs-pZxrYNaaH"
      },
      "execution_count": null,
      "outputs": []
    },
    {
      "cell_type": "markdown",
      "source": [
        "## 4. Experiments"
      ],
      "metadata": {
        "id": "sXEew1OjU42F"
      }
    },
    {
      "cell_type": "markdown",
      "source": [
        "### 4.1 Define training loop"
      ],
      "metadata": {
        "id": "VVWn74_RUWrk"
      }
    },
    {
      "cell_type": "code",
      "source": [
        "from tqdm.auto import tqdm\n",
        "\n",
        "def training_step(model, epochs, data_loader, loss_fn, accuracy_fn, optimizer, device):\n",
        "  model.train()\n",
        "\n",
        "  for epoch in tqdm(range(epochs)):\n",
        "    train_loss = 0\n",
        "    train_acc = 0\n",
        "\n",
        "    total_batches = len(data_loader)\n",
        "    for batch, (X, y) in enumerate(data_loader):\n",
        "      X, y = X.to(device), y.to(device)\n",
        "\n",
        "      y_pred = torch.sigmoid(model(X))\n",
        "      loss = loss_fn(y_pred, y)\n",
        "      train_loss += loss\n",
        "\n",
        "\n",
        "      #### To get argmax matching\n",
        "      y_pred = y_pred.reshape((32, 7, 7, 3, 11))\n",
        "      max_indices = y_pred.argmax(dim=4)\n",
        "      result = torch.zeros_like(y_pred)\n",
        "\n",
        "      result[torch.arange(y_pred.shape[0]).unsqueeze(1).unsqueeze(2).unsqueeze(3),\n",
        "          torch.arange(y_pred.shape[1]).unsqueeze(0).unsqueeze(2).unsqueeze(3),\n",
        "          torch.arange(y_pred.shape[2]).unsqueeze(0).unsqueeze(1).unsqueeze(3),\n",
        "          torch.arange(y_pred.shape[3]).unsqueeze(0).unsqueeze(1).unsqueeze(2),\n",
        "          max_indices] = 1\n",
        "      flattened_result = result.view(32, -1)\n",
        "      ####\n",
        "      acc = accuracy_fn(flattened_result, y)\n",
        "      train_acc += acc\n",
        "\n",
        "      optimizer.zero_grad()\n",
        "      loss.backward()\n",
        "      optimizer.step()\n",
        "\n",
        "      #if batch % 400 == 0:\n",
        "      #print(f\"Loss {loss} \")\n",
        "        #print(f\"Epoch: {epoch} | Batch: {batch} | Loss: {loss.item()} | Accuracy: {acc}\")\n",
        "\n",
        "    train_loss /= len(train_dataset)\n",
        "    train_acc /= len(train_dataset)\n",
        "\n",
        "    print(f\"Epoch: {epoch} | Loss: {train_loss} | Accuracy: {train_acc}%\")\n"
      ],
      "metadata": {
        "id": "kOJIeoDjJwFP"
      },
      "execution_count": null,
      "outputs": []
    },
    {
      "cell_type": "markdown",
      "source": [
        "### 4.2 Define testing loop"
      ],
      "metadata": {
        "id": "_7g9k3yWUZ2e"
      }
    },
    {
      "cell_type": "code",
      "source": [
        "def testing_step(model, data_loader, loss_fn, accuracy_fn, device):\n",
        "  model.eval()\n",
        "  test_loss = 0\n",
        "  test_acc = 0\n",
        "\n",
        "  pred_states = []\n",
        "  true_states = []\n",
        "  with torch.inference_mode():\n",
        "    for X, y in data_loader:\n",
        "      X, y = X.to(device), y.to(device)\n",
        "      # print shape of y\n",
        "      # print(y.shape)\n",
        "\n",
        "      test_pred = torch.sigmoid(model(X))\n",
        "      # print shape of test_pred\n",
        "      # print(test_pred.shape)\n",
        "      test_loss += loss_fn(test_pred, y)\n",
        "      test_acc += accuracy_fn(torch.round(test_pred), y)\n",
        "\n",
        "      pred_states.append(test_pred)\n",
        "      true_states.append(y)\n",
        "\n",
        "    test_loss /= len(test_dataset)\n",
        "    test_acc /= len(test_dataset)\n",
        "\n",
        "    print(f\"Test loss: {test_loss:.5f} | Test accuracy: {test_acc:.2f}%\\n\")\n",
        "    return pred_states, true_states"
      ],
      "metadata": {
        "id": "C7xLw0cDUdOd"
      },
      "execution_count": null,
      "outputs": []
    },
    {
      "cell_type": "code",
      "source": [
        "#show shapes of train_loader, test_loader\n",
        "@torch.no_grad()\n",
        "def show_shapes(train_loader, test_loader):\n",
        "  train_X, train_y = next(iter(train_loader))\n",
        "  test_X, test_y = next(iter(test_loader))\n",
        "  print(f\"Shapes of train_X and train_y: {train_X.shape}, {train_y.shape}\")\n",
        "  print(f\"Shapes of test_X and test_y: {test_X.shape}, {test_y.shape}\")\n",
        "  print(f\"Train dataset size: {len(train_dataset)}\")\n",
        "  print(f\"Test dataset size: {len(test_dataset)}\")\n",
        "  print(f\"Train loader: {train_loader}\")\n",
        "  print(f\"Test loader: {test_loader}\")\n",
        "\n",
        "show_shapes(train_loader, test_loader)"
      ],
      "metadata": {
        "colab": {
          "base_uri": "https://localhost:8080/"
        },
        "id": "oymP7P3p4lXn",
        "outputId": "8784fe56-bb26-4ec7-b8cc-17216ab8a88e"
      },
      "execution_count": null,
      "outputs": [
        {
          "output_type": "stream",
          "name": "stdout",
          "text": [
            "Shapes of train_X and train_y: torch.Size([32, 1624]), torch.Size([32, 1617])\n",
            "Shapes of test_X and test_y: torch.Size([32, 1624]), torch.Size([32, 1617])\n",
            "Train dataset size: 80000\n",
            "Test dataset size: 20000\n",
            "Train loader: <torch.utils.data.dataloader.DataLoader object at 0x7c072bef7f40>\n",
            "Test loader: <torch.utils.data.dataloader.DataLoader object at 0x7c072bef5ff0>\n"
          ]
        }
      ]
    },
    {
      "cell_type": "code",
      "source": [
        "training_step(next_state_nn, 5, train_loader, loss_fn, accuracy_fn, optimizer, device)\n",
        "print(\"-------------\")\n",
        "pred_states, test_states = testing_step(next_state_nn, test_loader, loss_fn, accuracy_fn, device)"
      ],
      "metadata": {
        "colab": {
          "base_uri": "https://localhost:8080/",
          "height": 188,
          "referenced_widgets": [
            "ea9771104832438b95da9a5c7b9b973c",
            "5f2eab53d19c448b8561664c6178e28d",
            "db9835a38cf84a05bd2814b21f1cb808",
            "e94e618c8e9a4a9fa12b202f1896047a",
            "0d5eda2fca4c4a039fa860a69a8deccf",
            "bc43dbe56d4b41dabeb8f509de95432c",
            "bad34a7b5434426fa02d42408a57d78c",
            "76d2b25f97d04e308ab15fca7dd29aa7",
            "8a11cdf82f6744df99ce43b8c6d851d6",
            "59b857828f5f4ceaa0956a710a43c242",
            "3efd86f30f754aaba693ddf571f6c9f4"
          ]
        },
        "id": "YlY4484AUx6o",
        "outputId": "37feb897-4e6c-437d-ffb0-e0a6f22ed327"
      },
      "execution_count": null,
      "outputs": [
        {
          "output_type": "display_data",
          "data": {
            "text/plain": [
              "  0%|          | 0/5 [00:00<?, ?it/s]"
            ],
            "application/vnd.jupyter.widget-view+json": {
              "version_major": 2,
              "version_minor": 0,
              "model_id": "ea9771104832438b95da9a5c7b9b973c"
            }
          },
          "metadata": {}
        },
        {
          "output_type": "stream",
          "name": "stdout",
          "text": [
            "Epoch: 0 | Loss: 0.0042485445737838745 | Accuracy: 0.0%\n",
            "Epoch: 1 | Loss: 0.0007388145895674825 | Accuracy: 0.0%\n",
            "Epoch: 2 | Loss: 0.0007382609182968736 | Accuracy: 0.0%\n",
            "Epoch: 3 | Loss: 0.000738085771445185 | Accuracy: 0.0%\n",
            "Epoch: 4 | Loss: 0.00073806825093925 | Accuracy: 0.0%\n",
            "-------------\n",
            "Test loss: 0.00074 | Test accuracy: 0.00%\n",
            "\n"
          ]
        }
      ]
    },
    {
      "cell_type": "markdown",
      "source": [
        "## 5. Visualize states"
      ],
      "metadata": {
        "id": "v0czcOb8s2Ni"
      }
    },
    {
      "cell_type": "code",
      "source": [
        "print(len(test_states), len(pred_states))"
      ],
      "metadata": {
        "colab": {
          "base_uri": "https://localhost:8080/"
        },
        "id": "MwGrP5_uawqw",
        "outputId": "b7f4279e-38a6-453f-f29b-b5c9d06be796"
      },
      "execution_count": null,
      "outputs": [
        {
          "output_type": "stream",
          "name": "stdout",
          "text": [
            "625 625\n"
          ]
        }
      ]
    },
    {
      "cell_type": "markdown",
      "source": [
        "### 5.1 Prepare 1st batch"
      ],
      "metadata": {
        "id": "JMu4xk_htDud"
      }
    },
    {
      "cell_type": "code",
      "source": [
        "### First batch\n",
        "\n",
        "import torch\n",
        "\n",
        "# Extract the first batch of data from the test_loader\n",
        "test_X, test_y = next(iter(test_loader))\n",
        "print(f\"Number of test samples: {len(test_y)}\")\n",
        "\n",
        "# Ensure `random_indices` is a list for indexing\n",
        "random_indices = torch.randperm(len(test_y))[:5].tolist()  # Randomly select 5 indices\n",
        "\n",
        "# Select samples using the random indices\n",
        "chosen_test_X_loader = torch.stack([test_X[idx] for idx in random_indices])#.reshape(5, 7, 7, 3, 11)  # Stack tensors into a new tensor\n",
        "# chosen_test_y_loader = torch.stack([test_y[idx] for idx in random_indices]).reshape(5, 7, 7, 3, 11)\n",
        "\n",
        "# For train actions\n",
        "chosen_train_actions = torch.stack([chosen_test_X_loader[i, 1617:] for i in range(len(random_indices))])\n",
        "chosen_test_X_loader = chosen_test_X_loader[:, :1617].reshape((5, 7, 7, 3, 11))\n",
        "\n",
        "# Handle `pred_states` and `test_states` as lists\n",
        "print(len(pred_states))\n",
        "chosen_pred_states = pred_states[0][random_indices].reshape((5, 7, 7, 3, 11))\n",
        "chosen_true_states = test_states[0][random_indices].reshape((5, 7, 7, 3, 11))\n",
        "\n",
        "# Print shapes for verification\n",
        "print(\"Chosen Test X Loader Shape:\", chosen_test_X_loader.shape)\n",
        "# print(\"Chosen Test y Loader Shape:\", chosen_test_y_loader.shape)\n",
        "print(\"Chosen Train Actions Shape:\", chosen_train_actions.shape)\n",
        "print(\"Chosen Pred States Shape:\", chosen_pred_states.shape)\n",
        "print(\"Chosen True States Shape:\", chosen_true_states.shape)\n"
      ],
      "metadata": {
        "colab": {
          "base_uri": "https://localhost:8080/"
        },
        "id": "mIvyYXSbi_6K",
        "outputId": "0cf2f556-9254-4fe2-eb5f-44b13efc0c26"
      },
      "execution_count": null,
      "outputs": [
        {
          "output_type": "stream",
          "name": "stdout",
          "text": [
            "Number of test samples: 32\n",
            "625\n",
            "Chosen Test X Loader Shape: torch.Size([5, 7, 7, 3, 11])\n",
            "Chosen Train Actions Shape: torch.Size([5, 7])\n",
            "Chosen Pred States Shape: torch.Size([5, 7, 7, 3, 11])\n",
            "Chosen True States Shape: torch.Size([5, 7, 7, 3, 11])\n"
          ]
        }
      ]
    },
    {
      "cell_type": "markdown",
      "source": [
        "### 5.2 Last batch"
      ],
      "metadata": {
        "id": "Id8_NJwXtMVX"
      }
    },
    {
      "cell_type": "code",
      "source": [
        "### Last batch\n",
        "import torch\n",
        "\n",
        "# Get the total number of batches in the test_loader\n",
        "total_batches = len(test_loader)\n",
        "print(f\"Total number of batches: {total_batches}\")\n",
        "\n",
        "# Get the last batch of data from the test_loader\n",
        "last_batch_X, last_batch_y = None, None\n",
        "for batch_X, batch_y in test_loader:  # Iterate through the loader\n",
        "    last_batch_X, last_batch_y = batch_X, batch_y  # Keep overwriting until the last batch\n",
        "\n",
        "print(f\"Number of samples in the last batch: {len(last_batch_y)}\")\n",
        "\n",
        "# Select the last 5 samples from the last batch\n",
        "last_indices = list(range(len(last_batch_y) - 5, len(last_batch_y)))  # Indices for the last 5 samples\n",
        "\n",
        "# Select samples using the last indices\n",
        "chosen_test_X_loader = torch.stack([last_batch_X[idx] for idx in last_indices])  # Stack tensors into a new tensor\n",
        "chosen_test_X_loader = chosen_test_X_loader[:, :1617].reshape((5, 7, 7, 3, 11))\n",
        "\n",
        "# For train actions\n",
        "chosen_train_actions = torch.stack([last_batch_X[idx, 1617:] for idx in last_indices])\n",
        "\n",
        "# Assuming `pred_states` and `test_states` are tensors or\n",
        "chosen_pred_states = pred_states[-1][random_indices].reshape((5, 7, 7, 3, 11))\n",
        "chosen_true_states = test_states[-1][random_indices].reshape((5, 7, 7, 3, 11))\n",
        "\n",
        "# Print shapes for verification\n",
        "print(\"Chosen Test X Loader Shape:\", chosen_test_X_loader.shape)\n",
        "print(\"Chosen Train Actions Shape:\", chosen_train_actions.shape)\n",
        "print(\"Chosen Pred States Shape:\", chosen_pred_states.shape)\n",
        "print(\"Chosen True States Shape:\", chosen_true_states.shape)\n"
      ],
      "metadata": {
        "colab": {
          "base_uri": "https://localhost:8080/"
        },
        "id": "CZ72i9YCaI1r",
        "outputId": "6c56486a-8e4b-47dd-e0be-b071372d6bd9"
      },
      "execution_count": null,
      "outputs": [
        {
          "output_type": "stream",
          "name": "stdout",
          "text": [
            "Total number of batches: 625\n",
            "Number of samples in the last batch: 32\n",
            "Chosen Test X Loader Shape: torch.Size([5, 7, 7, 3, 11])\n",
            "Chosen Train Actions Shape: torch.Size([5, 7])\n",
            "Chosen Pred States Shape: torch.Size([5, 7, 7, 3, 11])\n",
            "Chosen True States Shape: torch.Size([5, 7, 7, 3, 11])\n"
          ]
        }
      ]
    },
    {
      "cell_type": "markdown",
      "source": [
        "### 5.3 Heatmap as a state"
      ],
      "metadata": {
        "id": "4B_ZDsJJtSa6"
      }
    },
    {
      "cell_type": "code",
      "source": [
        "import matplotlib.pyplot as plt\n",
        "#print(torch.round(pred_states).shape)#.reshape((7, 7, 3, 11))))\n",
        "\n",
        "#print(pred_states.shape)\n",
        "pred_states = chosen_pred_states[0]#[0]).reshape((7, 7, 3, 11))#.reshape((7, 7, 3, 11)))  # Reshape first\n",
        "\n",
        "# Convert one-hot encoded vectors to class labels\n",
        "class_labels = pred_states.argmax(dim=3)  # Apply argmax along the last dimension\n",
        "\n",
        "print(class_labels.shape)\n",
        "## torch.Size([7, 7, 3]) - 3 channels (OBJ_IDX, STATE_IDX, ?? )\n",
        "\n",
        "# Extract the first channel of the class labels for plotting\n",
        "class_labels_channel_0 = class_labels[:, :, 0]\n",
        "# TypeError: can't convert cuda:0 device type tensor to numpy. Use Tensor.cpu() to copy the tensor to host memory first.\n",
        "class_labels_channel_0 = class_labels_channel_0.cpu().numpy()\n",
        "\n",
        "# Plotting class_labels_channel_0 as a color map\n",
        "plt.figure(figsize=(6, 6))\n",
        "plt.imshow(class_labels_channel_0, cmap='viridis', interpolation='nearest')\n",
        "plt.colorbar(label=\"Class Label\")\n",
        "plt.title(\"Class Labels for Channel 0\")\n",
        "plt.xlabel(\"X-axis\")\n",
        "plt.ylabel(\"Y-axis\")\n",
        "plt.show()"
      ],
      "metadata": {
        "id": "ykZjQvWsVbaj",
        "colab": {
          "base_uri": "https://localhost:8080/",
          "height": 530
        },
        "outputId": "b8f6bb84-ea0a-4ec4-a9cd-8bccd9ebe219"
      },
      "execution_count": null,
      "outputs": [
        {
          "output_type": "stream",
          "name": "stdout",
          "text": [
            "torch.Size([7, 7, 3])\n"
          ]
        },
        {
          "output_type": "display_data",
          "data": {
            "text/plain": [
              "<Figure size 600x600 with 2 Axes>"
            ],
            "image/png": "[encoded data removed]"
          },
          "metadata": {}
        }
      ]
    },
    {
      "cell_type": "markdown",
      "source": [
        "### 5.4 Save states to files"
      ],
      "metadata": {
        "id": "HUGhi12ptX60"
      }
    },
    {
      "cell_type": "code",
      "source": [
        "import matplotlib.pyplot as plt\n",
        "\n",
        "# Iterate over the 5 samples to save combined heatmaps\n",
        "for i in range(5):\n",
        "    # Initialize a figure with 1 row and 4 columns (one for action, three for heatmaps)\n",
        "    fig, axs = plt.subplots(1, 4, figsize=(18, 6))\n",
        "    fig.suptitle(f\"Sample {i}: Action and Heatmaps\", fontsize=16)\n",
        "\n",
        "    # Display the action\n",
        "    action = chosen_train_actions[i].cpu().numpy() if isinstance(chosen_train_actions[i], torch.Tensor) else chosen_train_actions[i]\n",
        "    axs[0].text(0.5, 0.5, f\"Action: {action.argmax()}\", fontsize=14, ha='center', va='center')\n",
        "    axs[0].axis('off')  # Hide axis for the action display\n",
        "    axs[0].set_title(\"Action\", fontsize=12)\n",
        "\n",
        "    # Define the states for heatmaps\n",
        "    states = {\n",
        "        \"Train\": chosen_test_X_loader[i],\n",
        "        \"Predicted\": chosen_pred_states[i],\n",
        "        \"True\": chosen_true_states[i],\n",
        "    }\n",
        "\n",
        "    # Generate heatmaps for Train, Predicted, and True states\n",
        "    for ax, (state_name, state_tensor) in zip(axs[1:], states.items()):\n",
        "        # Convert one-hot encoded vectors to class labels\n",
        "        class_labels = state_tensor.argmax(dim=3)  # Apply argmax along the last dimension\n",
        "        # Extract the first channel of the class labels for plotting\n",
        "        heatmap_data = class_labels[:, :, 0].cpu().numpy()\n",
        "\n",
        "        # Plot the heatmap\n",
        "        im = ax.imshow(heatmap_data, cmap=\"viridis\", interpolation=\"nearest\")\n",
        "        ax.set_title(f\"{state_name} Heatmap\", fontsize=12)\n",
        "        ax.set_xlabel(\"X-axis\")\n",
        "        ax.set_ylabel(\"Y-axis\")\n",
        "\n",
        "        # Add a color bar\n",
        "        plt.colorbar(im, ax=ax, orientation=\"vertical\")\n",
        "\n",
        "    # Adjust layout and save the figure\n",
        "    plt.tight_layout(rect=[0, 0, 1, 0.95])\n",
        "    plt.savefig(f\"combined_heatmaps_sample_{i}.png\")\n",
        "    plt.close()\n",
        "    print(f\"combined_heatmaps_sample_{i}.png saved\")\n"
      ],
      "metadata": {
        "colab": {
          "base_uri": "https://localhost:8080/"
        },
        "id": "-ZRuTfYuP7FO",
        "outputId": "5691e52c-a941-4a74-b60c-e6e927c9c381"
      },
      "execution_count": null,
      "outputs": [
        {
          "output_type": "stream",
          "name": "stdout",
          "text": [
            "combined_heatmaps_sample_0.png saved\n",
            "combined_heatmaps_sample_1.png saved\n",
            "combined_heatmaps_sample_2.png saved\n",
            "combined_heatmaps_sample_3.png saved\n",
            "combined_heatmaps_sample_4.png saved\n"
          ]
        }
      ]
    }
  ],
  "metadata": {
    "kernelspec": {
      "display_name": "Python 3",
      "name": "python3"
    },
    "language_info": {
      "codemirror_mode": {
        "name": "ipython",
        "version": 3
      },
      "file_extension": ".py",
      "mimetype": "text/x-python",
      "name": "python",
      "nbconvert_exporter": "python",
      "pygments_lexer": "ipython3",
      "version": "3.10.15"
    },
    "colab": {
      "provenance": [],
      "gpuType": "T4"
    },
    "widgets": {
      "application/vnd.jupyter.widget-state+json": {
        "ea9771104832438b95da9a5c7b9b973c": {
          "model_module": "@jupyter-widgets/controls",
          "model_name": "HBoxModel",
          "model_module_version": "1.5.0",
          "state": {
            "_dom_classes": [],
            "_model_module": "@jupyter-widgets/controls",
            "_model_module_version": "1.5.0",
            "_model_name": "HBoxModel",
            "_view_count": null,
            "_view_module": "@jupyter-widgets/controls",
            "_view_module_version": "1.5.0",
            "_view_name": "HBoxView",
            "box_style": "",
            "children": [
              "IPY_MODEL_5f2eab53d19c448b8561664c6178e28d",
              "IPY_MODEL_db9835a38cf84a05bd2814b21f1cb808",
              "IPY_MODEL_e94e618c8e9a4a9fa12b202f1896047a"
            ],
            "layout": "IPY_MODEL_0d5eda2fca4c4a039fa860a69a8deccf"
          }
        },
        "5f2eab53d19c448b8561664c6178e28d": {
          "model_module": "@jupyter-widgets/controls",
          "model_name": "HTMLModel",
          "model_module_version": "1.5.0",
          "state": {
            "_dom_classes": [],
            "_model_module": "@jupyter-widgets/controls",
            "_model_module_version": "1.5.0",
            "_model_name": "HTMLModel",
            "_view_count": null,
            "_view_module": "@jupyter-widgets/controls",
            "_view_module_version": "1.5.0",
            "_view_name": "HTMLView",
            "description": "",
            "description_tooltip": null,
            "layout": "IPY_MODEL_bc43dbe56d4b41dabeb8f509de95432c",
            "placeholder": "​",
            "style": "IPY_MODEL_bad34a7b5434426fa02d42408a57d78c",
            "value": "100%"
          }
        },
        "db9835a38cf84a05bd2814b21f1cb808": {
          "model_module": "@jupyter-widgets/controls",
          "model_name": "FloatProgressModel",
          "model_module_version": "1.5.0",
          "state": {
            "_dom_classes": [],
            "_model_module": "@jupyter-widgets/controls",
            "_model_module_version": "1.5.0",
            "_model_name": "FloatProgressModel",
            "_view_count": null,
            "_view_module": "@jupyter-widgets/controls",
            "_view_module_version": "1.5.0",
            "_view_name": "ProgressView",
            "bar_style": "success",
            "description": "",
            "description_tooltip": null,
            "layout": "IPY_MODEL_76d2b25f97d04e308ab15fca7dd29aa7",
            "max": 5,
            "min": 0,
            "orientation": "horizontal",
            "style": "IPY_MODEL_8a11cdf82f6744df99ce43b8c6d851d6",
            "value": 5
          }
        },
        "e94e618c8e9a4a9fa12b202f1896047a": {
          "model_module": "@jupyter-widgets/controls",
          "model_name": "HTMLModel",
          "model_module_version": "1.5.0",
          "state": {
            "_dom_classes": [],
            "_model_module": "@jupyter-widgets/controls",
            "_model_module_version": "1.5.0",
            "_model_name": "HTMLModel",
            "_view_count": null,
            "_view_module": "@jupyter-widgets/controls",
            "_view_module_version": "1.5.0",
            "_view_name": "HTMLView",
            "description": "",
            "description_tooltip": null,
            "layout": "IPY_MODEL_59b857828f5f4ceaa0956a710a43c242",
            "placeholder": "​",
            "style": "IPY_MODEL_3efd86f30f754aaba693ddf571f6c9f4",
            "value": " 5/5 [08:48&lt;00:00, 105.32s/it]"
          }
        },
        "0d5eda2fca4c4a039fa860a69a8deccf": {
          "model_module": "@jupyter-widgets/base",
          "model_name": "LayoutModel",
          "model_module_version": "1.2.0",
          "state": {
            "_model_module": "@jupyter-widgets/base",
            "_model_module_version": "1.2.0",
            "_model_name": "LayoutModel",
            "_view_count": null,
            "_view_module": "@jupyter-widgets/base",
            "_view_module_version": "1.2.0",
            "_view_name": "LayoutView",
            "align_content": null,
            "align_items": null,
            "align_self": null,
            "border": null,
            "bottom": null,
            "display": null,
            "flex": null,
            "flex_flow": null,
            "grid_area": null,
            "grid_auto_columns": null,
            "grid_auto_flow": null,
            "grid_auto_rows": null,
            "grid_column": null,
            "grid_gap": null,
            "grid_row": null,
            "grid_template_areas": null,
            "grid_template_columns": null,
            "grid_template_rows": null,
            "height": null,
            "justify_content": null,
            "justify_items": null,
            "left": null,
            "margin": null,
            "max_height": null,
            "max_width": null,
            "min_height": null,
            "min_width": null,
            "object_fit": null,
            "object_position": null,
            "order": null,
            "overflow": null,
            "overflow_x": null,
            "overflow_y": null,
            "padding": null,
            "right": null,
            "top": null,
            "visibility": null,
            "width": null
          }
        },
        "bc43dbe56d4b41dabeb8f509de95432c": {
          "model_module": "@jupyter-widgets/base",
          "model_name": "LayoutModel",
          "model_module_version": "1.2.0",
          "state": {
            "_model_module": "@jupyter-widgets/base",
            "_model_module_version": "1.2.0",
            "_model_name": "LayoutModel",
            "_view_count": null,
            "_view_module": "@jupyter-widgets/base",
            "_view_module_version": "1.2.0",
            "_view_name": "LayoutView",
            "align_content": null,
            "align_items": null,
            "align_self": null,
            "border": null,
            "bottom": null,
            "display": null,
            "flex": null,
            "flex_flow": null,
            "grid_area": null,
            "grid_auto_columns": null,
            "grid_auto_flow": null,
            "grid_auto_rows": null,
            "grid_column": null,
            "grid_gap": null,
            "grid_row": null,
            "grid_template_areas": null,
            "grid_template_columns": null,
            "grid_template_rows": null,
            "height": null,
            "justify_content": null,
            "justify_items": null,
            "left": null,
            "margin": null,
            "max_height": null,
            "max_width": null,
            "min_height": null,
            "min_width": null,
            "object_fit": null,
            "object_position": null,
            "order": null,
            "overflow": null,
            "overflow_x": null,
            "overflow_y": null,
            "padding": null,
            "right": null,
            "top": null,
            "visibility": null,
            "width": null
          }
        },
        "bad34a7b5434426fa02d42408a57d78c": {
          "model_module": "@jupyter-widgets/controls",
          "model_name": "DescriptionStyleModel",
          "model_module_version": "1.5.0",
          "state": {
            "_model_module": "@jupyter-widgets/controls",
            "_model_module_version": "1.5.0",
            "_model_name": "DescriptionStyleModel",
            "_view_count": null,
            "_view_module": "@jupyter-widgets/base",
            "_view_module_version": "1.2.0",
            "_view_name": "StyleView",
            "description_width": ""
          }
        },
        "76d2b25f97d04e308ab15fca7dd29aa7": {
          "model_module": "@jupyter-widgets/base",
          "model_name": "LayoutModel",
          "model_module_version": "1.2.0",
          "state": {
            "_model_module": "@jupyter-widgets/base",
            "_model_module_version": "1.2.0",
            "_model_name": "LayoutModel",
            "_view_count": null,
            "_view_module": "@jupyter-widgets/base",
            "_view_module_version": "1.2.0",
            "_view_name": "LayoutView",
            "align_content": null,
            "align_items": null,
            "align_self": null,
            "border": null,
            "bottom": null,
            "display": null,
            "flex": null,
            "flex_flow": null,
            "grid_area": null,
            "grid_auto_columns": null,
            "grid_auto_flow": null,
            "grid_auto_rows": null,
            "grid_column": null,
            "grid_gap": null,
            "grid_row": null,
            "grid_template_areas": null,
            "grid_template_columns": null,
            "grid_template_rows": null,
            "height": null,
            "justify_content": null,
            "justify_items": null,
            "left": null,
            "margin": null,
            "max_height": null,
            "max_width": null,
            "min_height": null,
            "min_width": null,
            "object_fit": null,
            "object_position": null,
            "order": null,
            "overflow": null,
            "overflow_x": null,
            "overflow_y": null,
            "padding": null,
            "right": null,
            "top": null,
            "visibility": null,
            "width": null
          }
        },
        "8a11cdf82f6744df99ce43b8c6d851d6": {
          "model_module": "@jupyter-widgets/controls",
          "model_name": "ProgressStyleModel",
          "model_module_version": "1.5.0",
          "state": {
            "_model_module": "@jupyter-widgets/controls",
            "_model_module_version": "1.5.0",
            "_model_name": "ProgressStyleModel",
            "_view_count": null,
            "_view_module": "@jupyter-widgets/base",
            "_view_module_version": "1.2.0",
            "_view_name": "StyleView",
            "bar_color": null,
            "description_width": ""
          }
        },
        "59b857828f5f4ceaa0956a710a43c242": {
          "model_module": "@jupyter-widgets/base",
          "model_name": "LayoutModel",
          "model_module_version": "1.2.0",
          "state": {
            "_model_module": "@jupyter-widgets/base",
            "_model_module_version": "1.2.0",
            "_model_name": "LayoutModel",
            "_view_count": null,
            "_view_module": "@jupyter-widgets/base",
            "_view_module_version": "1.2.0",
            "_view_name": "LayoutView",
            "align_content": null,
            "align_items": null,
            "align_self": null,
            "border": null,
            "bottom": null,
            "display": null,
            "flex": null,
            "flex_flow": null,
            "grid_area": null,
            "grid_auto_columns": null,
            "grid_auto_flow": null,
            "grid_auto_rows": null,
            "grid_column": null,
            "grid_gap": null,
            "grid_row": null,
            "grid_template_areas": null,
            "grid_template_columns": null,
            "grid_template_rows": null,
            "height": null,
            "justify_content": null,
            "justify_items": null,
            "left": null,
            "margin": null,
            "max_height": null,
            "max_width": null,
            "min_height": null,
            "min_width": null,
            "object_fit": null,
            "object_position": null,
            "order": null,
            "overflow": null,
            "overflow_x": null,
            "overflow_y": null,
            "padding": null,
            "right": null,
            "top": null,
            "visibility": null,
            "width": null
          }
        },
        "3efd86f30f754aaba693ddf571f6c9f4": {
          "model_module": "@jupyter-widgets/controls",
          "model_name": "DescriptionStyleModel",
          "model_module_version": "1.5.0",
          "state": {
            "_model_module": "@jupyter-widgets/controls",
            "_model_module_version": "1.5.0",
            "_model_name": "DescriptionStyleModel",
            "_view_count": null,
            "_view_module": "@jupyter-widgets/base",
            "_view_module_version": "1.2.0",
            "_view_name": "StyleView",
            "description_width": ""
          }
        }
      }
    },
    "accelerator": "GPU"
  },
  "nbformat": 4,
  "nbformat_minor": 0
}